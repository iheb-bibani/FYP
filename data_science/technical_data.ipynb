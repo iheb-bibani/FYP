{
 "cells": [
  {
   "cell_type": "code",
   "execution_count": 86,
   "metadata": {},
   "outputs": [
    {
     "name": "stderr",
     "output_type": "stream",
     "text": [
      "2023-09-08 12:24:23.973216: I tensorflow/core/util/port.cc:110] oneDNN custom operations are on. You may see slightly different numerical results due to floating-point round-off errors from different computation orders. To turn them off, set the environment variable `TF_ENABLE_ONEDNN_OPTS=0`.\n",
      "2023-09-08 12:24:24.176189: I tensorflow/core/platform/cpu_feature_guard.cc:182] This TensorFlow binary is optimized to use available CPU instructions in performance-critical operations.\n",
      "To enable the following instructions: AVX2 AVX_VNNI FMA, in other operations, rebuild TensorFlow with the appropriate compiler flags.\n",
      "2023-09-08 12:24:25.179849: W tensorflow/compiler/tf2tensorrt/utils/py_utils.cc:38] TF-TRT Warning: Could not find TensorRT\n"
     ]
    }
   ],
   "source": [
    "import pandas as pd\n",
    "import numpy as np\n",
    "import matplotlib.pyplot as plt\n",
    "from postgres import connection\n",
    "import psycopg2\n",
    "from datetime import datetime\n",
    "import tensorflow as tf\n",
    "from sklearn.model_selection import train_test_split\n",
    "from sklearn.preprocessing import StandardScaler"
   ]
  },
  {
   "cell_type": "code",
   "execution_count": 101,
   "metadata": {},
   "outputs": [],
   "source": [
    "def download_data(connection: psycopg2.extensions.connection, start_date = \"2009-12-01\", end_date = \"2022-12-30\") -> pd.DataFrame:\n",
    "    cursor = connection.cursor()\n",
    "    cursor.execute(\"SELECT ticker FROM equities\")\n",
    "    tickers = cursor.fetchall()\n",
    "    stock_data = {}\n",
    "    null_volumes = {}\n",
    "\n",
    "    for stock_tuple in tickers:\n",
    "        stock = stock_tuple[0]\n",
    "        if stock == \"^STI\":\n",
    "            continue\n",
    "        table_name = f\"stock_{stock[:3]}\"  # Remove the .SI suffix\n",
    "        query = (\n",
    "            f\"SELECT * FROM {table_name} WHERE Date >= %s AND Date <= %s ORDER BY Date ASC\"\n",
    "        )\n",
    "        cursor.execute(query, (start_date, end_date))\n",
    "        data = cursor.fetchall()\n",
    "        if data:\n",
    "            dates, open_price, high, low, close, adj_close, volume = zip(*data)\n",
    "            \n",
    "            if datetime.strptime(start_date, \"%Y-%m-%d\") != datetime.strptime(dates[0], \"%Y-%m-%d\") \\\n",
    "                or datetime.strptime(end_date, \"%Y-%m-%d\") != datetime.strptime(dates[-1], \"%Y-%m-%d\"):\n",
    "                continue\n",
    "\n",
    "            df = pd.DataFrame({\n",
    "                'Date': pd.to_datetime(dates),\n",
    "                'Open': open_price,\n",
    "                'High': high,\n",
    "                'Low': low,\n",
    "                'Close': close,\n",
    "                'Adj_Close': adj_close,\n",
    "                'Volume': volume\n",
    "            })\n",
    "            if df[-1:]['Adj_Close'].values[0] < 0.2:\n",
    "                continue\n",
    "            # Handle special case where all columns are equal\n",
    "            mask = (df['Open'] == df['High']) & (df['High'] == df['Low']) & (df['Low'] == df['Close']) & (df['Close'] == df['Adj_Close'])\n",
    "            df.loc[mask, 'Volume'] = -1.0\n",
    "            \n",
    "            df.replace(0, np.nan, inplace=True)\n",
    "            \n",
    "            null_counts = df.isnull().sum()\n",
    "            if null_counts.any():\n",
    "                null_volumes[stock] = {'null_count': null_counts['Volume'], '0_vol': df[df['Volume'] == -1.0].shape[0]}  \n",
    "            stock_data[stock] = df\n",
    "\n",
    "    cursor.close()\n",
    "    return stock_data, null_volumes\n"
   ]
  },
  {
   "cell_type": "code",
   "execution_count": 102,
   "metadata": {},
   "outputs": [],
   "source": [
    "all_data,null_volumes = download_data(connection)"
   ]
  },
  {
   "cell_type": "code",
   "execution_count": 105,
   "metadata": {},
   "outputs": [],
   "source": [
    "null_volumes_df = pd.DataFrame.from_dict(null_volumes, orient='index', columns=[ 'null_count', '0_vol'])\n",
    "null_volumes_df.sort_values(by=['null_count'], ascending=False, inplace=True)\n",
    "null_volumes_df.to_excel('null_volumes.xlsx')"
   ]
  },
  {
   "cell_type": "code",
   "execution_count": 94,
   "metadata": {},
   "outputs": [
    {
     "name": "stdout",
     "output_type": "stream",
     "text": [
      "Number of stocks in training data: 0\n",
      "Number of stocks in test data: 97\n"
     ]
    }
   ],
   "source": [
    "test_data = {}\n",
    "training_data = {}\n",
    "for stock, df in all_data.items():\n",
    "    if stock in null_volumes:\n",
    "        test_data[stock] = df\n",
    "    else:\n",
    "        training_data[stock] = df\n",
    "        \n",
    "print(f\"Number of stocks in training data: {len(training_data)}\")\n",
    "print(f\"Number of stocks in test data: {len(test_data)}\")"
   ]
  },
  {
   "cell_type": "code",
   "execution_count": 95,
   "metadata": {},
   "outputs": [],
   "source": [
    "for key, value in training_data.items():\n",
    "    print(key)\n",
    "    print(value[value['Volume'] == -1])"
   ]
  },
  {
   "cell_type": "code",
   "execution_count": 4,
   "metadata": {},
   "outputs": [],
   "source": [
    "connection.close()"
   ]
  }
 ],
 "metadata": {
  "kernelspec": {
   "display_name": "fyp",
   "language": "python",
   "name": "python3"
  },
  "language_info": {
   "codemirror_mode": {
    "name": "ipython",
    "version": 3
   },
   "file_extension": ".py",
   "mimetype": "text/x-python",
   "name": "python",
   "nbconvert_exporter": "python",
   "pygments_lexer": "ipython3",
   "version": "3.10.12"
  },
  "orig_nbformat": 4
 },
 "nbformat": 4,
 "nbformat_minor": 2
}
