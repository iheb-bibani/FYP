{
 "cells": [
  {
   "cell_type": "code",
   "execution_count": null,
   "metadata": {},
   "outputs": [],
   "source": [
    "import pandas as pd"
   ]
  },
  {
   "cell_type": "code",
   "execution_count": null,
   "metadata": {},
   "outputs": [],
   "source": [
    "data = pd.read_csv('fundamentals.csv')\n",
    "data.shape"
   ]
  },
  {
   "cell_type": "code",
   "execution_count": null,
   "metadata": {},
   "outputs": [],
   "source": [
    "data.head()"
   ]
  },
  {
   "cell_type": "code",
   "execution_count": null,
   "metadata": {},
   "outputs": [],
   "source": [
    "data.info()"
   ]
  },
  {
   "cell_type": "code",
   "execution_count": null,
   "metadata": {},
   "outputs": [],
   "source": [
    "# APQ -- Account Payable/Creditors - Trade (accountsPayable in list one)\n",
    "# ACTQ -- Current Assets - Total (currentAssets in list one) - Matched\n",
    "# ATQ -- Assets - Total (totalAssets in list one) - Matched\n",
    "# CEQQ -- Common/Ordinary Equity - Total (commonStockEquity in list one) - Matched\n",
    "# CHEQ -- Cash and Short-Term Investments (cashAndCashEquivalents in list one)\n",
    "# CHQ -- Cash (cashFinancial in list one)\n",
    "# COGSQ -- Cost of Goods Sold (costOfRevenue in list one)\n",
    "# CSTKQ -- Common/Ordinary Stock (Capital) (commonStock in list one) - Matched\n",
    "# DLCQ -- Debt in Current Liabilities (currentDebt in list one)\n",
    "# DLTTQ -- Long-Term Debt - Total (longTermDebt in list one)\n",
    "# GPQ -- Gross Profit (Loss) (grossProfit in list one)\n",
    "# INVTQ -- Inventories - Total (inventory in list one) - Matched\n",
    "# LCTQ -- Current Liabilities - Total (currentLiabilities in list one) - Matched\n",
    "# LLTQ -- Long-Term Liabilities (Total) (totalNonCurrentLiabilitiesNetMinorityInterest in list one) - Matched\n",
    "# LTQ -- Liabilities - Total (totalLiabilitiesNetMinorityInterest in list one) - Matched\n",
    "# PIQ -- Pretax Income (pretaxIncome in list one)\n",
    "# PPENTQ -- Property Plant and Equipment - Total (Net) (grossPPE in list one)\n",
    "# RECTQ -- Receivables - Total (receivables in list one)\n",
    "# REQ -- Retained Earnings (retainedEarnings in list one)\n",
    "# REVTQ -- Revenue - Total (totalRevenue in list one)"
   ]
  },
  {
   "cell_type": "code",
   "execution_count": null,
   "metadata": {},
   "outputs": [],
   "source": [
    "from yahoofinancials import YahooFinancials\n",
    "sembcorp = YahooFinancials('SBOA.SG')\n",
    "balance_sheet = sembcorp.get_financial_stmts('quarterly', 'balance').get('balanceSheetHistoryQuarterly').get('SBOA.SG')[0]\n",
    "income_statement = sembcorp.get_financial_stmts('quarterly', 'income').get('incomeStatementHistoryQuarterly').get('SBOA.SG')[0]\n",
    "cash_flow = sembcorp.get_financial_stmts('quarterly', 'cash').get('cashflowStatementHistoryQuarterly').get('SBOA.SG')[0]"
   ]
  },
  {
   "cell_type": "code",
   "execution_count": null,
   "metadata": {},
   "outputs": [],
   "source": [
    "# Get quarterly balance sheet data\n",
    "import yfinance as yf\n",
    "sembcorp = yf.Ticker('SBOA.SG')\n",
    "sembcorp.history(period='3m')\n",
    "balance_sheet = sembcorp.balance_sheet\n",
    "income_statement = sembcorp.financials\n",
    "cash_flow = sembcorp.cashflow"
   ]
  },
  {
   "cell_type": "code",
   "execution_count": null,
   "metadata": {},
   "outputs": [],
   "source": [
    "balance_sheet_pd = pd.DataFrame.from_dict(balance_sheet).T\n",
    "income_statement_pd = pd.DataFrame.from_dict(income_statement).T\n",
    "cash_flow_pd = pd.DataFrame.from_dict(cash_flow).T"
   ]
  },
  {
   "cell_type": "code",
   "execution_count": null,
   "metadata": {},
   "outputs": [],
   "source": [
    "balance_sheet_pd.head()"
   ]
  },
  {
   "cell_type": "code",
   "execution_count": null,
   "metadata": {},
   "outputs": [],
   "source": [
    "income_statement_pd.head()"
   ]
  },
  {
   "cell_type": "code",
   "execution_count": null,
   "metadata": {},
   "outputs": [],
   "source": [
    "cash_flow_pd.head()"
   ]
  },
  {
   "cell_type": "code",
   "execution_count": null,
   "metadata": {},
   "outputs": [],
   "source": [
    "sembcorp_from_data = data[data['conm'] == 'SEMBCORP INDUSTRIES LTD']\n",
    "sembcorp_from_data = sembcorp_from_data[data['datadate'] == \"31/12/2022\"]\n",
    "sembcorp_from_data"
   ]
  },
  {
   "cell_type": "code",
   "execution_count": null,
   "metadata": {},
   "outputs": [],
   "source": [
    "# APQ -- Account Payable/Creditors - Trade (accountsPayable in list one)\n",
    "print(\"APQ: \", sembcorp_from_data['apq'].values[0])\n",
    "print(\"APQ: \", balance_sheet_pd['accountsPayable'][0])\n",
    "# ACTQ -- Current Assets - Total (currentAssets in list one)\n",
    "print(\"ACTQ: \", sembcorp_from_data['actq'].values[0])\n",
    "print(\"ACTQ: \", balance_sheet_pd['currentAssets'][0])\n",
    "# ATQ -- Assets - Total (totalAssets in list one)\n",
    "print(\"ATQ: \", sembcorp_from_data['atq'].values[0])\n",
    "print(\"ATQ: \", balance_sheet_pd['totalAssets'][0])\n",
    "# CEQQ -- Common/Ordinary Equity - Total (commonStockEquity in list one)\n",
    "print(\"CEQQ: \", sembcorp_from_data['ceqq'].values[0])\n",
    "print(\"CEQQ: \", balance_sheet_pd['commonStockEquity'][0])\n",
    "# CHEQ -- Cash and Short-Term Investments (cashAndCashEquivalents in list one)\n",
    "print(\"CHEQ: \", sembcorp_from_data['cheq'].values[0])\n",
    "print(\"CHEQ: \", balance_sheet_pd['cashAndCashEquivalents'][0])\n",
    "# CHQ -- Cash (cashFinancial in list one)\n",
    "print(\"CHQ: \", sembcorp_from_data['chq'].values[0])\n",
    "print(\"CHQ: \", balance_sheet_pd['cashFinancial'][0])\n",
    "# COGSQ -- Cost of Goods Sold (costOfRevenue in list one)\n",
    "print(\"COGSQ: \", sembcorp_from_data['cogsq'].values[0])\n",
    "print(\"COGSQ: \", income_statement_pd['costOfRevenue'][0])\n",
    "# CSTKQ -- Common/Ordinary Stock (Capital) (commonStock in list one)\n",
    "print(\"CSTKQ: \", sembcorp_from_data['cstkq'].values[0])\n",
    "print(\"CSTKQ: \", balance_sheet_pd['commonStock'][0])\n",
    "# DLCQ -- Debt in Current Liabilities (currentDebt in list one)\n",
    "print(\"DLCQ: \", sembcorp_from_data['dlcq'].values[0])\n",
    "print(\"DLCQ: \", balance_sheet_pd['currentDebt'][0])\n",
    "# DLTTQ -- Long-Term Debt - Total (longTermDebt in list one)\n",
    "print(\"DLTTQ: \", sembcorp_from_data['dlttq'].values[0])\n",
    "print(\"DLTTQ: \", balance_sheet_pd['longTermDebt'][0])\n",
    "# GPQ -- Gross Profit (Loss) (grossProfit in list one)\n",
    "print(\"GPQ: \", sembcorp_from_data['gpq'].values[0])\n",
    "print(\"GPQ: \", income_statement_pd['grossProfit'][0])\n",
    "# INVTQ -- Inventories - Total (inventory in list one)\n",
    "print(\"INVTQ: \", sembcorp_from_data['invtq'].values[0])\n",
    "print(\"INVTQ: \", balance_sheet_pd['inventory'][0])\n",
    "# LCTQ -- Current Liabilities - Total (currentLiabilities in list one)\n",
    "print(\"LCTQ: \", sembcorp_from_data['lctq'].values[0])\n",
    "print(\"LCTQ: \", balance_sheet_pd['currentLiabilities'][0])\n",
    "# LLTQ -- Long-Term Liabilities (Total) (totalNonCurrentLiabilitiesNetMinorityInterest in list one)\n",
    "print(\"LLTQ: \", sembcorp_from_data['lltq'].values[0])\n",
    "print(\"LLTQ: \", balance_sheet_pd['totalNonCurrentLiabilitiesNetMinorityInterest'][0])\n",
    "# LTQ -- Liabilities - Total (totalLiabilitiesNetMinorityInterest in list one)\n",
    "print(\"LTQ: \", sembcorp_from_data['ltq'].values[0])\n",
    "print(\"LTQ: \", balance_sheet_pd['totalLiabilitiesNetMinorityInterest'][0])\n",
    "# PIQ -- Pretax Income (pretaxIncome in list one)\n",
    "print(\"PIQ: \", sembcorp_from_data['piq'].values[0])\n",
    "print(\"PIQ: \", income_statement_pd['pretaxIncome'][0])\n",
    "# PPENTQ -- Property Plant and Equipment - Total (Net) (grossPPE in list one)\n",
    "print(\"PPENTQ: \", sembcorp_from_data['ppentq'].values[0])\n",
    "print(\"PPENTQ: \", balance_sheet_pd['grossPPE'][0])\n",
    "# RECTQ -- Receivables - Total (receivables in list one)\n",
    "# print(\"RECTQ: \", sembcorp_from_data['rectq'].values[0])\n",
    "# print(\"RECTQ: \", balance_sheet_pd['receivables'][0])\n",
    "# REQ -- Retained Earnings (retainedEarnings in list one)\n",
    "# print(\"REQ: \", sembcorp_from_data['req'].values[0])\n",
    "# print(\"REQ: \", balance_sheet_pd['retainedEarnings'][0])\n",
    "# REVTQ -- Revenue - Total (totalRevenue in list one)\n",
    "print(\"REVTQ: \", sembcorp_from_data['revtq'].values[0])\n",
    "print(\"REVTQ: \", income_statement_pd['totalRevenue'][0])"
   ]
  }
 ],
 "metadata": {
  "kernelspec": {
   "display_name": "fyp",
   "language": "python",
   "name": "python3"
  },
  "language_info": {
   "codemirror_mode": {
    "name": "ipython",
    "version": 3
   },
   "file_extension": ".py",
   "mimetype": "text/x-python",
   "name": "python",
   "nbconvert_exporter": "python",
   "pygments_lexer": "ipython3",
   "version": "3.10.12"
  },
  "orig_nbformat": 4
 },
 "nbformat": 4,
 "nbformat_minor": 2
}
